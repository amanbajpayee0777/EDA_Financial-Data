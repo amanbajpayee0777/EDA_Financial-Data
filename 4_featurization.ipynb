{
 "cells": [
  {
   "cell_type": "code",
   "execution_count": 129,
   "id": "dc2c2a2c-5e44-407a-b478-3b3de29d67a6",
   "metadata": {},
   "outputs": [],
   "source": [
    "import pandas as pd\n",
    "import numpy as np\n",
    "import os\n",
    "import pickle\n",
    "import shutil\n",
    "from datetime import datetime, timedelta\n",
    "import matplotlib.pyplot as plt\n",
    "import seaborn as sns\n",
    "import pyreadr\n",
    "%matplotlib inline"
   ]
  },
  {
   "cell_type": "code",
   "execution_count": 130,
   "id": "fb19ac24-483b-4f5f-8c7f-26bc7ac88ec7",
   "metadata": {
    "tags": []
   },
   "outputs": [
    {
     "name": "stdout",
     "output_type": "stream",
     "text": [
      "(260480, 40)\n",
      "(221167, 40)\n"
     ]
    },
    {
     "data": {
      "text/html": [
       "<div>\n",
       "<style scoped>\n",
       "    .dataframe tbody tr th:only-of-type {\n",
       "        vertical-align: middle;\n",
       "    }\n",
       "\n",
       "    .dataframe tbody tr th {\n",
       "        vertical-align: top;\n",
       "    }\n",
       "\n",
       "    .dataframe thead th {\n",
       "        text-align: right;\n",
       "    }\n",
       "</style>\n",
       "<table border=\"1\" class=\"dataframe\">\n",
       "  <thead>\n",
       "    <tr style=\"text-align: right;\">\n",
       "      <th></th>\n",
       "      <th>accountnumber</th>\n",
       "      <th>category</th>\n",
       "      <th>chargeoffdate</th>\n",
       "      <th>chargeoffamount</th>\n",
       "      <th>collateraltypecode</th>\n",
       "      <th>commercialrealestatecode</th>\n",
       "      <th>cracode</th>\n",
       "      <th>currentamortizationperiod</th>\n",
       "      <th>currentficoscore</th>\n",
       "      <th>currentmaturitydate</th>\n",
       "      <th>...</th>\n",
       "      <th>productid</th>\n",
       "      <th>productname</th>\n",
       "      <th>productshorttype</th>\n",
       "      <th>producttype</th>\n",
       "      <th>producttypecode</th>\n",
       "      <th>propertytype</th>\n",
       "      <th>remainingterm</th>\n",
       "      <th>timespastdue_30_60</th>\n",
       "      <th>timespastdue_60_90</th>\n",
       "      <th>timespastdue_90_plus</th>\n",
       "    </tr>\n",
       "  </thead>\n",
       "  <tbody>\n",
       "    <tr>\n",
       "      <th>0</th>\n",
       "      <td>127828003.0</td>\n",
       "      <td>CNS</td>\n",
       "      <td>None</td>\n",
       "      <td>0.0</td>\n",
       "      <td>NaN</td>\n",
       "      <td>NaN</td>\n",
       "      <td>OUC</td>\n",
       "      <td>0</td>\n",
       "      <td>NaN</td>\n",
       "      <td>2049-01-31</td>\n",
       "      <td>...</td>\n",
       "      <td>CNS~LOC</td>\n",
       "      <td>Line of Credit</td>\n",
       "      <td>LN</td>\n",
       "      <td>Standard Loan</td>\n",
       "      <td>LOC</td>\n",
       "      <td>Other</td>\n",
       "      <td>305</td>\n",
       "      <td>0</td>\n",
       "      <td>0</td>\n",
       "      <td>0</td>\n",
       "    </tr>\n",
       "    <tr>\n",
       "      <th>1</th>\n",
       "      <td>127847003.0</td>\n",
       "      <td>CNS</td>\n",
       "      <td>None</td>\n",
       "      <td>0.0</td>\n",
       "      <td>NaN</td>\n",
       "      <td>NaN</td>\n",
       "      <td>OUC</td>\n",
       "      <td>0</td>\n",
       "      <td>NaN</td>\n",
       "      <td>2049-01-31</td>\n",
       "      <td>...</td>\n",
       "      <td>CNS~LOC</td>\n",
       "      <td>Line of Credit</td>\n",
       "      <td>LN</td>\n",
       "      <td>Standard Loan</td>\n",
       "      <td>LOC</td>\n",
       "      <td>Other</td>\n",
       "      <td>305</td>\n",
       "      <td>0</td>\n",
       "      <td>0</td>\n",
       "      <td>0</td>\n",
       "    </tr>\n",
       "    <tr>\n",
       "      <th>2</th>\n",
       "      <td>128213001.0</td>\n",
       "      <td>CNS</td>\n",
       "      <td>None</td>\n",
       "      <td>0.0</td>\n",
       "      <td>NaN</td>\n",
       "      <td>NaN</td>\n",
       "      <td>OUC</td>\n",
       "      <td>37</td>\n",
       "      <td>NaN</td>\n",
       "      <td>2006-04-15</td>\n",
       "      <td>...</td>\n",
       "      <td>CNS~TERM</td>\n",
       "      <td>Term</td>\n",
       "      <td>LN</td>\n",
       "      <td>Standard Loan</td>\n",
       "      <td>TERM</td>\n",
       "      <td>Other</td>\n",
       "      <td>0</td>\n",
       "      <td>0</td>\n",
       "      <td>0</td>\n",
       "      <td>0</td>\n",
       "    </tr>\n",
       "  </tbody>\n",
       "</table>\n",
       "<p>3 rows × 40 columns</p>\n",
       "</div>"
      ],
      "text/plain": [
       "   accountnumber category chargeoffdate  chargeoffamount collateraltypecode  \\\n",
       "0    127828003.0      CNS          None              0.0                NaN   \n",
       "1    127847003.0      CNS          None              0.0                NaN   \n",
       "2    128213001.0      CNS          None              0.0                NaN   \n",
       "\n",
       "  commercialrealestatecode cracode currentamortizationperiod currentficoscore  \\\n",
       "0                      NaN     OUC                         0              NaN   \n",
       "1                      NaN     OUC                         0              NaN   \n",
       "2                      NaN     OUC                        37              NaN   \n",
       "\n",
       "  currentmaturitydate  ...  productid     productname  productshorttype  \\\n",
       "0          2049-01-31  ...    CNS~LOC  Line of Credit                LN   \n",
       "1          2049-01-31  ...    CNS~LOC  Line of Credit                LN   \n",
       "2          2006-04-15  ...   CNS~TERM            Term                LN   \n",
       "\n",
       "     producttype producttypecode propertytype  remainingterm  \\\n",
       "0  Standard Loan             LOC        Other            305   \n",
       "1  Standard Loan             LOC        Other            305   \n",
       "2  Standard Loan            TERM        Other              0   \n",
       "\n",
       "  timespastdue_30_60 timespastdue_60_90 timespastdue_90_plus  \n",
       "0                  0                  0                    0  \n",
       "1                  0                  0                    0  \n",
       "2                  0                  0                    0  \n",
       "\n",
       "[3 rows x 40 columns]"
      ]
     },
     "execution_count": 130,
     "metadata": {},
     "output_type": "execute_result"
    }
   ],
   "source": [
    "data_folder = '/anvil/projects/tdm/corporate/3rivers-membership/data/'\n",
    "lending = pyreadr.read_r(data_folder + '/Lending_Table.rds')[None]\n",
    "print(lending.shape)\n",
    "    \n",
    "with open('../data/useful_customers_list.pkl', 'rb') as f:\n",
    "    customer_list = pickle.load(f)\n",
    "    \n",
    "lending = lending[ lending['customerkey'].isin(customer_list) ]\n",
    "print(lending.shape)\n",
    "lending.reset_index(inplace=True, drop=True)\n",
    "lending.head(3)"
   ]
  },
  {
   "cell_type": "markdown",
   "id": "b78837f6-4712-48f3-9c7b-b8a2d2bfcfe3",
   "metadata": {},
   "source": [
    "Check if customerkey and accountnumber are unique i.e. have one-to-one relation"
   ]
  },
  {
   "cell_type": "code",
   "execution_count": 131,
   "id": "a39cb062-3843-4264-897c-67b76af412ba",
   "metadata": {},
   "outputs": [
    {
     "data": {
      "text/plain": [
       "False"
      ]
     },
     "execution_count": 131,
     "metadata": {},
     "output_type": "execute_result"
    }
   ],
   "source": [
    "lending[['customerkey', 'accountnumber']].duplicated().any()"
   ]
  },
  {
   "cell_type": "markdown",
   "id": "81affc80-a4da-49a1-8c35-2f2f057ab02f",
   "metadata": {},
   "source": [
    "customerkey and accountnumber together will serve as primary key."
   ]
  },
  {
   "cell_type": "markdown",
   "id": "474d6abd-cf3f-41be-b242-54ab2d6d4c93",
   "metadata": {},
   "source": [
    "Overall, we are going to have 3 types of features, binary valued features, features that have no fix scaled i.e. those that need to be standardized, and those that have a fixed range. So, we will have to featurize and preprocess them accordingly."
   ]
  },
  {
   "cell_type": "code",
   "execution_count": 132,
   "id": "fde98465-98cb-4b5a-9bfd-6baa3c7d596f",
   "metadata": {},
   "outputs": [],
   "source": [
    "binary_features, standardization_features = [], []"
   ]
  },
  {
   "cell_type": "markdown",
   "id": "29853c9b-e5b1-440c-85da-18ce94db5a0f",
   "metadata": {},
   "source": [
    "##### 1. Featurzing feature 'category'"
   ]
  },
  {
   "cell_type": "code",
   "execution_count": 133,
   "id": "019154f1-0606-4f09-9607-3d18d61f5da8",
   "metadata": {},
   "outputs": [
    {
     "data": {
      "text/plain": [
       "{'CNS': 196696, 'MTG': 22742, 'MLN': 909, 'CML': 820}"
      ]
     },
     "execution_count": 133,
     "metadata": {},
     "output_type": "execute_result"
    }
   ],
   "source": [
    "lending_category_dict = lending.category.value_counts().to_dict()\n",
    "lending_category_dict"
   ]
  },
  {
   "cell_type": "markdown",
   "id": "b27fb6fb-043d-4c9a-ab39-6d334369cba7",
   "metadata": {},
   "source": [
    "The total count for categories 'MLN' and 'CML' is less than 1% (around .4% to .5%) which is very small number for the ml model to learn from as compared to other categories. So, we will just mark all categories with 'CNS' as 0 and any other category as 1, making it a binary feature."
   ]
  },
  {
   "cell_type": "code",
   "execution_count": 134,
   "id": "e2271a07-bd90-4065-98de-3884b0b6794e",
   "metadata": {},
   "outputs": [
    {
     "data": {
      "text/plain": [
       "0    196696\n",
       "1     24471\n",
       "Name: category, dtype: int64"
      ]
     },
     "execution_count": 134,
     "metadata": {},
     "output_type": "execute_result"
    }
   ],
   "source": [
    "lending.category = lending.category.apply(lambda x: 0 if x == 'CNS' else 1)\n",
    "lending.category.value_counts()"
   ]
  },
  {
   "cell_type": "code",
   "execution_count": 135,
   "id": "1d421bf3-cde7-4ec4-a887-06d5b3ff005a",
   "metadata": {},
   "outputs": [],
   "source": [
    "binary_features.append( 'category' )"
   ]
  },
  {
   "cell_type": "markdown",
   "id": "3f6bf3b9-3ca6-438e-9c80-f48724f03322",
   "metadata": {},
   "source": [
    "##### 2. Featurizing feature chargeoffdate"
   ]
  },
  {
   "cell_type": "code",
   "execution_count": 136,
   "id": "d451526b-24cd-4bbb-b5fe-04e1486de292",
   "metadata": {},
   "outputs": [
    {
     "data": {
      "text/plain": [
       "94.87"
      ]
     },
     "execution_count": 136,
     "metadata": {},
     "output_type": "execute_result"
    }
   ],
   "source": [
    "round((lending.chargeoffdate.isna().sum()/lending.shape[0])*100, 2)"
   ]
  },
  {
   "cell_type": "markdown",
   "id": "5216c90e-2e45-4759-a39b-eabcccf6fc33",
   "metadata": {},
   "source": [
    "94.87% of the data is missing for chargeoffdate column. So, we cannot use any imputatation method to impute the missing records but we can take into account the information that chargeoffdate is present for 5.13% by marking these rows with 1 and the rest with 0"
   ]
  },
  {
   "cell_type": "code",
   "execution_count": 137,
   "id": "6a9c8ec1-3435-43a4-a6c7-ce9f94b7ffb4",
   "metadata": {},
   "outputs": [],
   "source": [
    "lending.chargeoffdate.fillna('', inplace=True)\n",
    "lending['chargeoffdate_binary'] =  lending.chargeoffdate.apply( lambda x: 0 if x == '' else 1)"
   ]
  },
  {
   "cell_type": "code",
   "execution_count": 138,
   "id": "5fdec452-28ff-4a89-bb16-3b88fb714f83",
   "metadata": {},
   "outputs": [],
   "source": [
    "binary_features.append( 'chargeoffdate_binary' )"
   ]
  },
  {
   "cell_type": "markdown",
   "id": "04c27905-cb47-4913-b82c-d444aed0f634",
   "metadata": {},
   "source": [
    "##### 3. chargeoffamount"
   ]
  },
  {
   "cell_type": "code",
   "execution_count": 139,
   "id": "e7ad2ea4-c33b-4969-adc9-6360e8e3adec",
   "metadata": {},
   "outputs": [
    {
     "data": {
      "text/plain": [
       "0.95607391699485"
      ]
     },
     "execution_count": 139,
     "metadata": {},
     "output_type": "execute_result"
    }
   ],
   "source": [
    "lending[ lending['chargeoffamount'] == 0].shape[0]/lending.shape[0]"
   ]
  },
  {
   "cell_type": "code",
   "execution_count": 140,
   "id": "76e41b32-4108-41e4-a655-e49adbdb517e",
   "metadata": {},
   "outputs": [
    {
     "data": {
      "text/plain": [
       "0.0"
      ]
     },
     "execution_count": 140,
     "metadata": {},
     "output_type": "execute_result"
    }
   ],
   "source": [
    "np.percentile(lending.chargeoffamount, 95)"
   ]
  },
  {
   "cell_type": "markdown",
   "id": "a6f57a4d-42d7-42ab-a7ea-1605c6bdbfdb",
   "metadata": {},
   "source": [
    "The charge off amount for 95% of the data is 0. Also, this feature makes sense for only those rows/records where the loan amount was actually charged off. As it was charged off for only 5% of the data, charge off amount correpsonding to only those 5% are present (which is obvious). So, going ahead, during feature selection, we might drop this feature as the information that this column holds can be interpreted to some extend by our chargeoffdate_binary feature created earlier. "
   ]
  },
  {
   "cell_type": "markdown",
   "id": "52ed1d19-3329-4124-ad10-f5fd53ce1de1",
   "metadata": {},
   "source": [
    "##### 4. collateraltypecode "
   ]
  },
  {
   "cell_type": "code",
   "execution_count": 141,
   "id": "d40343d5-f8b8-4413-bdf4-641cbb545d84",
   "metadata": {
    "tags": []
   },
   "outputs": [
    {
     "data": {
      "text/plain": [
       "AUTU    103671\n",
       "SING     39745\n",
       "TRUK      7293\n",
       "MCYC      4088\n",
       "RV        2455\n",
       "LEAS      2324\n",
       "OIRE      2046\n",
       "BOAT      1892\n",
       "OTNR      1878\n",
       "OTHR      1419\n",
       "COND       197\n",
       "MOBL       177\n",
       "CD         168\n",
       "SAV        166\n",
       "LNDA       137\n",
       "RENO        46\n",
       "BASS        43\n",
       "SNOW        41\n",
       "LAND        41\n",
       "SPHM        33\n",
       "TRAL        24\n",
       "MOTO        24\n",
       "EQUP        23\n",
       "MULT        22\n",
       "STCK        22\n",
       "FRMA        18\n",
       "PUD         15\n",
       "REOO        11\n",
       "ATV         11\n",
       "RSBU        10\n",
       "HORS         9\n",
       "PRP1         8\n",
       "AR           7\n",
       "CAMP         6\n",
       "LAAG         5\n",
       "PRP4         4\n",
       "ASGN         4\n",
       "INSP         3\n",
       "INDU         3\n",
       "NURS         3\n",
       "FLOR         3\n",
       "CHRC         3\n",
       "PERS         2\n",
       "BOND         2\n",
       "PRP2         2\n",
       "JSKI         2\n",
       "APT          2\n",
       "PRP3         2\n",
       "OFFC         2\n",
       "HLCR         1\n",
       "WHSE         1\n",
       "MOTL         1\n",
       "FACT         1\n",
       "Name: collateraltypecode, dtype: int64"
      ]
     },
     "execution_count": 141,
     "metadata": {},
     "output_type": "execute_result"
    }
   ],
   "source": [
    "lending.collateraltypecode.value_counts()"
   ]
  },
  {
   "cell_type": "code",
   "execution_count": 142,
   "id": "d0f2c6cf-3c7c-4616-b126-9634a3fb54f3",
   "metadata": {},
   "outputs": [
    {
     "data": {
      "text/plain": [
       "2211.67"
      ]
     },
     "execution_count": 142,
     "metadata": {},
     "output_type": "execute_result"
    }
   ],
   "source": [
    "lending.shape[0]*.01"
   ]
  },
  {
   "cell_type": "markdown",
   "id": "dd9aa03f-3476-424d-9d78-79487ba93147",
   "metadata": {},
   "source": [
    "Except the first couple of values above, all the other values are underrepresented. So, we will just group all the values with count less than 2211 (1% of total records) as 'OTHER' category. "
   ]
  },
  {
   "cell_type": "code",
   "execution_count": 143,
   "id": "f08488a5-fb33-4c32-9192-80d54d381a22",
   "metadata": {},
   "outputs": [],
   "source": [
    "collateraltype_dict = {'AUTU':103671 ,'SING':39745 ,'TRUK':7293 ,'MCYC':4088,'RV':2455,'LEAS':2324, 'OTHER' : 2211 }\n",
    "def lending_collateraltypecode_fun(x):\n",
    "    if x not in ['AUTU','SING','TRUK','MCYC','RV','LEAS']  :\n",
    "        x = 'OTHER' \n",
    "    return collateraltype_dict[x]\n",
    "lending.collateraltypecode = lending.collateraltypecode.apply(lending_collateraltypecode_fun)\n",
    "standardization_features.append( 'collateraltypecode' )"
   ]
  },
  {
   "cell_type": "markdown",
   "id": "908777bd-c1fc-484f-a6d8-3a2dd4119fa8",
   "metadata": {},
   "source": [
    "##### 5. commercialrealestatecode"
   ]
  },
  {
   "cell_type": "code",
   "execution_count": 144,
   "id": "a6f93292-4554-403a-8935-cdcd29834fa9",
   "metadata": {},
   "outputs": [
    {
     "data": {
      "text/plain": [
       "80.352"
      ]
     },
     "execution_count": 144,
     "metadata": {},
     "output_type": "execute_result"
    }
   ],
   "source": [
    "round((lending.commercialrealestatecode.isna().sum()/lending.shape[0])*100, 3)"
   ]
  },
  {
   "cell_type": "markdown",
   "id": "b173011f-102f-4188-8f7c-0efa251ad53d",
   "metadata": {},
   "source": [
    "80% of the values are null values. So, we will create a binary feature that marks 0 if no commercial real estate code is present and 1 otherwise. "
   ]
  },
  {
   "cell_type": "code",
   "execution_count": 145,
   "id": "50890ef5-13f2-446c-bc4d-a27ee6caf0f6",
   "metadata": {},
   "outputs": [],
   "source": [
    "lending.commercialrealestatecode.fillna(0, inplace=True)\n",
    "lending['commercialrealestatecode_bin'] = lending.commercialrealestatecode.apply(lambda x: 1 if x != 0 else 0)\n",
    "binary_features.append( 'commercialrealestatecode_bin' )"
   ]
  },
  {
   "cell_type": "markdown",
   "id": "5d20623c-a9ab-4c4a-838b-1a2bfe9c4835",
   "metadata": {},
   "source": [
    "##### 6. cracode"
   ]
  },
  {
   "cell_type": "code",
   "execution_count": 146,
   "id": "7d9c4424-ccb5-4c1c-9488-24730adcbe0c",
   "metadata": {},
   "outputs": [
    {
     "data": {
      "text/plain": [
       "0"
      ]
     },
     "execution_count": 146,
     "metadata": {},
     "output_type": "execute_result"
    }
   ],
   "source": [
    "lending.cracode.isna().sum()\n",
    "lending.dropna(subset=['cracode'], inplace=True)\n",
    "lending.cracode.isna().sum()"
   ]
  },
  {
   "cell_type": "markdown",
   "id": "eb2b7d82-49ec-4a9f-b09c-6362a8155a0c",
   "metadata": {},
   "source": [
    "As the number of rows with null values is very small(<1%), we simply drop it. "
   ]
  },
  {
   "cell_type": "code",
   "execution_count": 147,
   "id": "3b602ff9-0765-4e5a-a2e1-7fbc1f235bd2",
   "metadata": {},
   "outputs": [],
   "source": [
    "lending_cracode_dict = lending.cracode.value_counts().to_dict()\n",
    "for key, value in lending_cracode_dict.items():\n",
    "    if value <= 2000 :\n",
    "        lending_cracode_dict[key] = 1/2000\n",
    "    else : \n",
    "        lending_cracode_dict[key] = 1/value\n",
    "lending.cracode = lending.cracode.apply(lambda x: lending_cracode_dict[x])\n",
    "standardization_features.append( 'cracode' )"
   ]
  },
  {
   "cell_type": "markdown",
   "id": "4f521c99-f1c0-450b-a6f9-d6421c379e2a",
   "metadata": {},
   "source": [
    "##### 7. currentAmortizationPeriod"
   ]
  },
  {
   "cell_type": "code",
   "execution_count": 148,
   "id": "695e7899-3cd7-495c-9e74-d886c057477f",
   "metadata": {},
   "outputs": [
    {
     "data": {
      "text/plain": [
       "0.03656657915846277"
      ]
     },
     "execution_count": 148,
     "metadata": {},
     "output_type": "execute_result"
    }
   ],
   "source": [
    "lending.currentamortizationperiod.isna().sum()/lending.shape[0]"
   ]
  },
  {
   "cell_type": "markdown",
   "id": "9a5d0085-d60c-44a4-84cb-ab60d5a3e81c",
   "metadata": {},
   "source": [
    "Some of the records have null values for amortization period i.e. around 3% of the records. It might be the case that these customers don't have any loan or they might have immediately paid off the loan and hence no amortization period value is available for these records. So, we will just impute the missing values with 0. "
   ]
  },
  {
   "cell_type": "code",
   "execution_count": 149,
   "id": "bbe09dc8-f8e1-48a3-afaf-0639b1fb1b60",
   "metadata": {},
   "outputs": [],
   "source": [
    "lending.currentamortizationperiod.fillna(0, inplace=True)\n",
    "standardization_features.append( 'currentamortizationperiod' )"
   ]
  },
  {
   "cell_type": "markdown",
   "id": "d72fc55b-bfd7-4759-a2e6-82aba853488f",
   "metadata": {},
   "source": [
    "##### 8. currentficoscore"
   ]
  },
  {
   "cell_type": "markdown",
   "id": "cc47b4a2-096f-40a1-b54e-240f787e671f",
   "metadata": {},
   "source": [
    "Around 24% of the data is missing for currentficoscore. It follows almost a normal distribution and is slightly left skewed. So it is safe to impute the missing values with median."
   ]
  },
  {
   "cell_type": "code",
   "execution_count": 150,
   "id": "b0fd3fd8-df16-46c3-ba97-8dcc70fbe177",
   "metadata": {},
   "outputs": [],
   "source": [
    "lending.currentficoscore.fillna(lending.currentficoscore.median(), inplace=True)\n",
    "standardization_features.append( 'currentficoscore' )"
   ]
  },
  {
   "cell_type": "markdown",
   "id": "b862381e-73e5-4631-97f0-9e9fbc78b614",
   "metadata": {},
   "source": [
    "##### 9. currentmaturitydate"
   ]
  },
  {
   "cell_type": "code",
   "execution_count": 151,
   "id": "7a11c5a7-b75d-4aeb-9ab5-6c341ece43f0",
   "metadata": {},
   "outputs": [
    {
     "name": "stdout",
     "output_type": "stream",
     "text": [
      "8\n"
     ]
    }
   ],
   "source": [
    "print(lending.currentmaturitydate.isna().sum())\n",
    "lending.dropna(subset=['currentmaturitydate'], inplace=True)\n",
    "lending['currentmaturitydate'] = pd.to_datetime(lending.currentmaturitydate)\n",
    "lending['currentmaturity_month'] = lending.currentmaturitydate.dt.month\n",
    "lending['currentmaturity_day'] = lending.currentmaturitydate.dt.day\n",
    "lending['currentmaturity_year'] = lending.currentmaturitydate.dt.year\n",
    "standardization_features.extend([ 'currentmaturity_month', 'currentmaturity_day', 'currentmaturity_year' ])"
   ]
  },
  {
   "cell_type": "markdown",
   "id": "5a53d606-1da8-4ca7-b57c-a9a10285ebe8",
   "metadata": {},
   "source": [
    "##### 10. currentprincipalbalance"
   ]
  },
  {
   "cell_type": "code",
   "execution_count": 152,
   "id": "83de48ba-ad84-4fbb-94a8-1e1e4582e8fc",
   "metadata": {},
   "outputs": [],
   "source": [
    "standardization_features.append('currentprincipalbalance')"
   ]
  },
  {
   "cell_type": "markdown",
   "id": "3da83b08-f7e8-4547-bcfd-fb6011be524d",
   "metadata": {},
   "source": [
    "##### 11. dayspastdue"
   ]
  },
  {
   "cell_type": "code",
   "execution_count": 153,
   "id": "6e0e8f6a-dc75-41cb-a1ce-54b3ea3bd4da",
   "metadata": {},
   "outputs": [],
   "source": [
    "standardization_features.append('dayspastdue')"
   ]
  },
  {
   "cell_type": "markdown",
   "id": "5332bda4-e0d2-4762-9534-f66ec80d0199",
   "metadata": {},
   "source": [
    "##### 12. haslineofcredit"
   ]
  },
  {
   "cell_type": "markdown",
   "id": "ac1ebd96-a555-4392-bb94-d32efc1ae3e1",
   "metadata": {},
   "source": [
    "It is a binary feature, so we will just label the entries with '0' and '1' for 'No' and 'Yes' labels respectively."
   ]
  },
  {
   "cell_type": "code",
   "execution_count": 154,
   "id": "1a0959f0-5d66-4917-8a93-c9e3591de25c",
   "metadata": {},
   "outputs": [],
   "source": [
    "lending['haslineofcredit_bin'] = lending.haslineofcredit.apply(lambda x: 0 if x == 'No' else 1)\n",
    "binary_features.append('haslineofcredit_bin')"
   ]
  },
  {
   "cell_type": "markdown",
   "id": "e02e43eb-6744-46d7-95ce-d31497be1cc4",
   "metadata": {},
   "source": [
    "##### 13.loantype"
   ]
  },
  {
   "cell_type": "markdown",
   "id": "aaf771e2-524d-405a-adee-f33432ed0e17",
   "metadata": {},
   "source": [
    "There are 4 different types of loans, the majority being 'consumer loan' followed by 'mortgage loan'.'Master line' and 'Commercial loan' have a count of less than 1000 and therefore are seriously underrepresented. So, we can convert this feature into a binary feature, with 'consumer loan' labelled as 0 and the rest as 1."
   ]
  },
  {
   "cell_type": "code",
   "execution_count": 155,
   "id": "48eaa842-34f8-4471-99d5-1bc44f5bcc9d",
   "metadata": {},
   "outputs": [],
   "source": [
    "lending['loantype_bin'] = lending.loantype.apply(lambda x : 0 if x == 'Consumer Loan' else 1)\n",
    "binary_features.append( 'loantype_bin' )"
   ]
  },
  {
   "cell_type": "code",
   "execution_count": 156,
   "id": "c6c9ffeb-0a8b-42ad-a42f-1cb6a15446af",
   "metadata": {},
   "outputs": [
    {
     "data": {
      "text/plain": [
       "0    195842\n",
       "1     23558\n",
       "Name: loantype_bin, dtype: int64"
      ]
     },
     "execution_count": 156,
     "metadata": {},
     "output_type": "execute_result"
    }
   ],
   "source": [
    "lending.loantype_bin.value_counts()"
   ]
  },
  {
   "cell_type": "markdown",
   "id": "fef029c5-9a53-48d8-8c72-4de7b4dd10f6",
   "metadata": {},
   "source": [
    "##### 14. hasrevolvinglineofcredit"
   ]
  },
  {
   "cell_type": "markdown",
   "id": "f68b3fb8-3396-4094-aa3c-bc1467ed28a8",
   "metadata": {},
   "source": [
    "It is a binary feature, so we will just label the entries with '0' and '1' for 'No' and 'Yes' labels respectively."
   ]
  },
  {
   "cell_type": "code",
   "execution_count": 157,
   "id": "65c29888-a383-4f82-9a40-33e78952de6c",
   "metadata": {},
   "outputs": [
    {
     "data": {
      "text/plain": [
       "0.9999589790337283"
      ]
     },
     "execution_count": 157,
     "metadata": {},
     "output_type": "execute_result"
    }
   ],
   "source": [
    "lending['hasrevolvinglineofcredit_bin'] = lending.hasrevolvinglineofcredit.apply(lambda x : 0 if x == 'No' else 1)\n",
    "sum(lending['hasrevolvinglineofcredit_bin'] == lending['haslineofcredit_bin'])/lending['haslineofcredit_bin'].shape[0]"
   ]
  },
  {
   "cell_type": "markdown",
   "id": "400e44a9-741b-4975-bec4-8b79bf5a4d0f",
   "metadata": {},
   "source": [
    "As hasrevolvinglineofcredit_bin and haslineofcredit_bin are conveying almost the same information, we will just use either of them."
   ]
  },
  {
   "cell_type": "markdown",
   "id": "cb9a6ab4-620d-4927-a20d-a1cffc058035",
   "metadata": {},
   "source": [
    "##### 15. Interestrate"
   ]
  },
  {
   "cell_type": "code",
   "execution_count": 158,
   "id": "167ea504-01ba-478f-963b-56e0591353da",
   "metadata": {},
   "outputs": [],
   "source": [
    "standardization_features.append('interestrate')"
   ]
  },
  {
   "cell_type": "markdown",
   "id": "932bf935-372a-4dc6-ac6d-a14865168be4",
   "metadata": {},
   "source": [
    "##### 16. interestratevariable"
   ]
  },
  {
   "cell_type": "code",
   "execution_count": 159,
   "id": "733a70c2-0656-40b9-9e3f-c618dfebd8af",
   "metadata": {},
   "outputs": [
    {
     "data": {
      "text/plain": [
       "0.21297629899726528"
      ]
     },
     "execution_count": 159,
     "metadata": {},
     "output_type": "execute_result"
    }
   ],
   "source": [
    "lending.interestratevariable.isna().sum()/lending.shape[0]"
   ]
  },
  {
   "cell_type": "markdown",
   "id": "5218df1a-04c4-4da4-934b-8879403fdfd9",
   "metadata": {},
   "source": [
    "21% of the values are missing. The data dictionary says that interestratevariable contains 3 values 'floating', 'variable' and 'ARM' (Adjustable Rate Mortgage), whereas in reality the values found are 'fix' and 'var' (variable) with 21% missing values. "
   ]
  },
  {
   "cell_type": "markdown",
   "id": "a427bf4b-972d-4489-8110-11edd357e0ac",
   "metadata": {},
   "source": [
    "##### 16. ischargedoff"
   ]
  },
  {
   "cell_type": "markdown",
   "id": "7f04d5aa-ea3e-43ea-bbce-4e1ad720d23e",
   "metadata": {},
   "source": [
    "ischargedoff is a binary values feature with 95% of them values as 'no' and the rest as 'yes'. So, we will just mark them as 0 for no and 1 for yes."
   ]
  },
  {
   "cell_type": "code",
   "execution_count": 160,
   "id": "6f0e24e8-cfe7-49ff-8d99-836797a69265",
   "metadata": {},
   "outputs": [],
   "source": [
    "lending['ischargedoff_bin'] = lending.ischargedoff.apply(lambda x: 0 if x == 'No' else 1)\n",
    "binary_features.append('ischargedoff_bin')"
   ]
  },
  {
   "cell_type": "markdown",
   "id": "76371f3c-e5fa-4bf5-8840-7c513276972c",
   "metadata": {},
   "source": [
    "##### 17. iscollateralprimary"
   ]
  },
  {
   "cell_type": "markdown",
   "id": "7df49344-52b6-4e9f-a589-1f3a48017b59",
   "metadata": {},
   "source": [
    "Here, for around 75% of the data for this feature has value 'Yes' and for the rest it is none. So, it can be assumed that for those rows with none value, the collateral is not primary. So, we will impute all the null values with 0 and substitute 1 for rows that say 'Yes' for this feature, thus making it a binary feature."
   ]
  },
  {
   "cell_type": "code",
   "execution_count": 161,
   "id": "8ee7b7bd-42c9-48c1-a79c-b9d530b564d5",
   "metadata": {},
   "outputs": [],
   "source": [
    "lending.iscollateralprimary.fillna(0, inplace=True)\n",
    "lending[ 'iscollateralprimary_bin'] = lending.iscollateralprimary.apply(lambda x: 0 if x == 0 else 1)\n",
    "binary_features.append( 'iscollateralprimary_bin' )"
   ]
  },
  {
   "cell_type": "markdown",
   "id": "d48d245e-6b5c-4cc8-ac97-aea454ace9e3",
   "metadata": {},
   "source": [
    "##### 18. isinterestratevariable"
   ]
  },
  {
   "cell_type": "markdown",
   "id": "8b348e68-bb5d-438d-a328-c21d5c004d73",
   "metadata": {},
   "source": [
    "The features 'isinterestratevariable' and 'interestratevariable' seem to contain the same information, the only different being one is filled with binary values as 'Yes' and 'No' whereas the other variables represents the same information using 'FIX' and 'VAR'. Thus, 'isinterestratevariable' seems to be an indicator variable for interestratevariable, as found in EDA."
   ]
  },
  {
   "cell_type": "code",
   "execution_count": 162,
   "id": "0618af4e-a624-4b86-9baf-e2af43754239",
   "metadata": {},
   "outputs": [],
   "source": [
    "lending[ 'isinterestratevariable_bin' ] = lending.isinterestratevariable.apply(lambda x : 1 if x == 'Yes' else 0 )\n",
    "binary_features.append( 'isinterestratevariable_bin' )"
   ]
  },
  {
   "cell_type": "markdown",
   "id": "1e67d44d-1be0-46b9-823e-0c7b77118a7f",
   "metadata": {},
   "source": [
    "##### 19. monthlypayment"
   ]
  },
  {
   "cell_type": "code",
   "execution_count": 163,
   "id": "21ec1f99-bc53-4375-a5c3-9642e89bd7a1",
   "metadata": {},
   "outputs": [],
   "source": [
    "standardization_features.append( 'monthlypayment')"
   ]
  },
  {
   "cell_type": "markdown",
   "id": "ca03a5c6-2eaf-4f0b-98d6-d168142090a2",
   "metadata": {},
   "source": [
    "##### 20. monthspastdue"
   ]
  },
  {
   "cell_type": "code",
   "execution_count": 164,
   "id": "b4101569-4f5a-444c-8896-1d79c8f9628f",
   "metadata": {},
   "outputs": [],
   "source": [
    "standardization_features.append( 'monthspastdue' )"
   ]
  },
  {
   "cell_type": "markdown",
   "id": "bca07e90-d7c9-4bf5-9ce8-97a4fdaf5f8c",
   "metadata": {},
   "source": [
    "##### 21. originalficodate"
   ]
  },
  {
   "cell_type": "markdown",
   "id": "982fc4b2-4fe7-4f82-a3a1-429e9202d9eb",
   "metadata": {},
   "source": [
    "originalficodate is missing for 30% of the data. The traditional means of imputing missing value like mean, median and mode won't really be helpful so we might not include this feature. Or one way to use this feature is to create a binary valued feature, where we given '1' if the value is present and '0' for an absent/none value. So, we will just convert it into binary valued feature in this fashion."
   ]
  },
  {
   "cell_type": "code",
   "execution_count": 165,
   "id": "563999ce-be48-4eed-83c3-a4b219897ff3",
   "metadata": {},
   "outputs": [],
   "source": [
    "lending.originalficodate.fillna( 0,inplace=True)\n",
    "lending['originalficodate_bin'] = lending.originalficodate.apply( lambda x : 0 if x==0 else 1)\n",
    "binary_features.append( 'originalficodate_bin' )"
   ]
  },
  {
   "cell_type": "markdown",
   "id": "e12e0084-532c-4679-816e-6b5d9989ad31",
   "metadata": {},
   "source": [
    "##### 22. originalficoscore"
   ]
  },
  {
   "cell_type": "code",
   "execution_count": 166,
   "id": "a73e1eb9-2d40-4076-94c7-524c3c9b61f8",
   "metadata": {},
   "outputs": [
    {
     "data": {
      "text/plain": [
       "0.2034275296262534"
      ]
     },
     "execution_count": 166,
     "metadata": {},
     "output_type": "execute_result"
    }
   ],
   "source": [
    "lending.originalficoscore.isna().sum()/lending.shape[0]"
   ]
  },
  {
   "cell_type": "code",
   "execution_count": 167,
   "id": "0f7c21ab-2c42-4aba-88b4-9feff7909ef8",
   "metadata": {},
   "outputs": [],
   "source": [
    "median_ficoscore = lending[ lending.originalficoscore != 0 ]['originalficoscore'].median()"
   ]
  },
  {
   "cell_type": "markdown",
   "id": "096c8622-94db-44be-91a8-fb6d49ddbffc",
   "metadata": {},
   "source": [
    "Around 3000 rows have 0 ficoscore which is not possible as ficoscore ranges in 350 to 800 range. Those rows with 0 as ficoscore are actually null values. So, we will impute all the missing values with median fico score of those rows where ficoscore wasn't zero. Besides, we will replace all occurences of '0' ficoscore with median ficoscore value."
   ]
  },
  {
   "cell_type": "code",
   "execution_count": 168,
   "id": "3f3e5723-52de-482e-8b59-e86e7abdcd2d",
   "metadata": {},
   "outputs": [],
   "source": [
    "lending.fillna( median_ficoscore, inplace=True)\n",
    "lending['originalficoscore'] = lending.originalficoscore.apply( lambda x : median_ficoscore if x == 0 else x)\n",
    "standardization_features.append( 'originalficoscore' )"
   ]
  },
  {
   "cell_type": "markdown",
   "id": "5b889e24-b612-42e4-b9e9-edb4540a1764",
   "metadata": {},
   "source": [
    "##### 23. originalprincipalamount"
   ]
  },
  {
   "cell_type": "code",
   "execution_count": 169,
   "id": "98cba3d2-fbc5-4a4f-b395-6ebd4e4b1b65",
   "metadata": {},
   "outputs": [],
   "source": [
    "standardization_features.append( 'originalprincipalamount' )"
   ]
  },
  {
   "cell_type": "markdown",
   "id": "624c3edb-97f8-4a19-9805-d244318ce368",
   "metadata": {},
   "source": [
    "##### 24. originalterm"
   ]
  },
  {
   "cell_type": "markdown",
   "id": "abd779ed-10d6-4e8e-96b7-1b9fcea4a914",
   "metadata": {},
   "source": [
    "There are some records where original term is negative, which is the number of months and therefore cannot be negative. So, these values are outliers, probably due to data entry errors and therefore, we will fill in all the negative values with median values. "
   ]
  },
  {
   "cell_type": "code",
   "execution_count": 170,
   "id": "4312646b-9893-4f32-b40e-a725343b7be4",
   "metadata": {},
   "outputs": [],
   "source": [
    "median_originalterm = lending[lending.originalterm > 0 ].originalterm.median()"
   ]
  },
  {
   "cell_type": "code",
   "execution_count": 171,
   "id": "a4ecad0f-5a94-4579-a6cc-a5a6f66e9a72",
   "metadata": {
    "tags": []
   },
   "outputs": [],
   "source": [
    "lending['originalterm'] = lending.originalterm.apply(lambda x: median_originalterm if x <= 0 else x ) \n",
    "standardization_features.append( 'originalterm') "
   ]
  },
  {
   "cell_type": "markdown",
   "id": "da10c81c-4cf3-4605-9818-1e720233d92d",
   "metadata": {},
   "source": [
    "##### 25. originationdate"
   ]
  },
  {
   "cell_type": "code",
   "execution_count": 172,
   "id": "62243294-afad-4a21-b3f3-e3c1511c6666",
   "metadata": {},
   "outputs": [],
   "source": [
    "lending.originationdate = pd.to_datetime(lending.originationdate, format=\"%Y-%m-%d\")\n",
    "lending[ 'originationdate_day' ] = lending.originationdate.dt.day\n",
    "lending[ 'originationdate_month' ] = lending.originationdate.dt.month\n",
    "lending[ 'originationdate_year' ] = lending.originationdate.dt.year\n",
    "standardization_features.extend( [ 'originationdate_day', 'originationdate_month', 'originationdate_year' ] )"
   ]
  },
  {
   "cell_type": "markdown",
   "id": "9439ee37-1295-46d5-87cb-83cae8f2dcdb",
   "metadata": {},
   "source": [
    "##### 26. paymentfrequency"
   ]
  },
  {
   "cell_type": "markdown",
   "id": "e647b0c3-56ad-4673-99c7-5a650f49f3c3",
   "metadata": {},
   "source": [
    "Based on the EDA, less than 500 records have payment frequency other than 'monthly', which is very less for the ml model to learn any pattern or draw any insights from, as compared to the total data size. So, we will exempt this feature from final set of features."
   ]
  },
  {
   "cell_type": "markdown",
   "id": "ad744bd1-9aeb-444f-815b-20fdfd77f7a6",
   "metadata": {},
   "source": [
    "##### 27. payoffdate"
   ]
  },
  {
   "cell_type": "code",
   "execution_count": 173,
   "id": "2f2f7426-8b32-4f59-8724-9940d62510e0",
   "metadata": {},
   "outputs": [
    {
     "data": {
      "text/plain": [
       "0.0"
      ]
     },
     "execution_count": 173,
     "metadata": {},
     "output_type": "execute_result"
    }
   ],
   "source": [
    "lending.payoffdate.isna().sum()/ lending.payoffdate.shape[0]"
   ]
  },
  {
   "cell_type": "markdown",
   "id": "353f9b6a-55ee-4af0-beeb-37a803713cd3",
   "metadata": {},
   "source": [
    "Around 28% of the values for payoffdate are missing this might be because these 28% of customers haven't paid off the loan yet. So, we can convert this feature into binary values feature, turning all missing values into '1' and the rest in '0', where '1' indicates that the loan is yet to be paid off and '0' indicates that the loan has been paid off."
   ]
  },
  {
   "cell_type": "code",
   "execution_count": 174,
   "id": "59126f66-9063-4c5d-a196-9af9c1b2c25b",
   "metadata": {},
   "outputs": [],
   "source": [
    "lending.payoffdate.fillna(1, inplace=True)\n",
    "lending[ 'payoffdate' ] = lending.payoffdate.apply( lambda x : 1 if x == 1 else 0 )\n",
    "binary_features.append('payoffdate')"
   ]
  },
  {
   "cell_type": "markdown",
   "id": "c6816a30-cf1c-4c41-a7d6-a7e5d90daaea",
   "metadata": {},
   "source": [
    "##### 28. productid "
   ]
  },
  {
   "cell_type": "markdown",
   "id": "c82144bb-64f1-45a3-bafa-f51911d97da5",
   "metadata": {
    "tags": []
   },
   "source": [
    "With the exception of the first 10 values (when arranged in decreasing order of value counts) all the other values have count of less than 5000 i.e. less than 2%. So, we will club these all under the category of 'OTHER' and further standardize the values based on their value count."
   ]
  },
  {
   "cell_type": "code",
   "execution_count": 175,
   "id": "1e7a07b9-b572-448b-b4ba-14c61c77a234",
   "metadata": {
    "tags": []
   },
   "outputs": [],
   "source": [
    "productid_dict = lending.productid.value_counts().to_dict()\n",
    "for key,value in productid_dict.items():\n",
    "    if value < 5000: \n",
    "        productid_dict[key] = 5000\n",
    "        \n",
    "lending[ 'productid' ] = lending.productid.apply( lambda x : productid_dict[x] )\n",
    "standardization_features.append( 'productid' )"
   ]
  },
  {
   "cell_type": "markdown",
   "id": "a1e51721-39d2-45ce-ac05-0af4c1cfd2c8",
   "metadata": {},
   "source": [
    "##### 29. productname"
   ]
  },
  {
   "cell_type": "markdown",
   "id": "1765c5ce-6d02-4428-a9f2-1998ba65223d",
   "metadata": {},
   "source": [
    "productname feature is kind of alias for product id and therefore as we have already used the product id feature, we can drop the productname feature otherwise it will introduce redundancy in data."
   ]
  },
  {
   "cell_type": "markdown",
   "id": "fc754659-ed35-4142-80ae-1d1516b28cf3",
   "metadata": {},
   "source": [
    "##### 30. productshorttype and producttype"
   ]
  },
  {
   "cell_type": "markdown",
   "id": "d1e068e5-0f3b-4179-94db-864cfb75eb33",
   "metadata": {},
   "source": [
    "Based on EDA, we can say that these two features represent almost the same information. "
   ]
  },
  {
   "cell_type": "code",
   "execution_count": 176,
   "id": "ae9cfc0d-2834-41a3-8e4f-c69519eaeba0",
   "metadata": {},
   "outputs": [],
   "source": [
    "producttype_dict = lending.producttype.value_counts().to_dict()\n",
    "lending[ 'producttype' ] = lending.producttype.apply( lambda x : producttype_dict[x] )\n",
    "standardization_features.append( 'producttype' )"
   ]
  },
  {
   "cell_type": "markdown",
   "id": "b1978560-5350-4852-ad16-a596b4e4b57e",
   "metadata": {},
   "source": [
    "##### 30. producttypecode"
   ]
  },
  {
   "cell_type": "markdown",
   "id": "a1f30c63-ca93-4a44-bc25-03d6a1bd1e73",
   "metadata": {},
   "source": [
    "From EDA, we can conclude that producttypecode is almost same as product id and therefore we can skip it or it might lead to correlated features thus introducing data redundancy. "
   ]
  },
  {
   "cell_type": "markdown",
   "id": "5e2284cd-52c1-423c-837b-ea34de837ac9",
   "metadata": {},
   "source": [
    "##### 31. propertytype "
   ]
  },
  {
   "cell_type": "markdown",
   "id": "b19c239a-59f5-4762-9c89-27f4aff806ff",
   "metadata": {},
   "source": [
    "With the exception of the first 10 values (when arranged in descending order of value counts), all values are less than 200, which is very small number for the model to draw any meaningful and useful insights. So, we will just assume the count of all such values as 200 and then standardize the feature."
   ]
  },
  {
   "cell_type": "code",
   "execution_count": 177,
   "id": "09d7c4b3-7846-4e13-9f6f-2fe513ed030c",
   "metadata": {},
   "outputs": [],
   "source": [
    "propertytype_dict = lending.propertytype.value_counts().to_dict()\n",
    "for key,value in propertytype_dict.items():\n",
    "    if value < 200 : \n",
    "        propertytype_dict[key] = 200\n",
    "lending[ 'propertytype' ] = lending.propertytype.apply(lambda x : propertytype_dict[x])\n",
    "standardization_features.append( 'propertytype' )"
   ]
  },
  {
   "cell_type": "markdown",
   "id": "917ffa23-1144-4984-9aa9-e02b6b03a81a",
   "metadata": {},
   "source": [
    "##### 32. remainingterm, timespastdue_30_60, timespastdue_60_90, timespastdue_90_plus"
   ]
  },
  {
   "cell_type": "code",
   "execution_count": 178,
   "id": "3f6bf2af-7c0f-452e-8cfe-ce5d5d37fd31",
   "metadata": {},
   "outputs": [],
   "source": [
    "standardization_features.extend( [ 'remainingterm', 'timespastdue_30_60', 'timespastdue_60_90', 'timespastdue_90_plus'])"
   ]
  },
  {
   "cell_type": "markdown",
   "id": "01835d57-54bc-457f-b30e-a1bf29021b57",
   "metadata": {},
   "source": [
    "##### 33. KLI"
   ]
  },
  {
   "cell_type": "code",
   "execution_count": 179,
   "id": "600c2339-2a1a-4852-ba31-f07f993883e1",
   "metadata": {
    "tags": []
   },
   "outputs": [],
   "source": [
    "kli = pyreadr.read_r(data_folder + '/KeyLifestyleIndicator_Table.rds')[None]\n",
    "with open('../data/useful_customers_list.pkl', 'rb') as f:\n",
    "    customers_list = pickle.load(f)\n",
    "    \n",
    "kli = kli[ kli.CustomerID.isin(customers_list)]\n",
    "temp_kli = kli.groupby('CustomerID', group_keys=True).count()\n",
    "lending = lending.merge( temp_kli, left_on = 'customerkey', right_on = 'CustomerID', how='left')\n",
    "median_kli = lending[lending.KLI != 0 ].KLI.median()\n",
    "lending.KLI.fillna(median_kli, inplace=True)\n",
    "standardization_features.append('KLI')"
   ]
  },
  {
   "cell_type": "code",
   "execution_count": 180,
   "id": "93678653-41ba-462f-a09d-2254217afa1c",
   "metadata": {},
   "outputs": [],
   "source": [
    "X_labeled = lending[ ['accountnumber', 'customerkey'] + standardization_features + binary_features]"
   ]
  },
  {
   "cell_type": "code",
   "execution_count": 181,
   "id": "619b42ab-18fb-4b88-88ce-230d567f7ddf",
   "metadata": {},
   "outputs": [],
   "source": [
    "# X_labeled.to_csv('../data/X_train.csv', index=None)"
   ]
  },
  {
   "cell_type": "code",
   "execution_count": 182,
   "id": "1f111086-b853-46ea-a257-59f469a4de17",
   "metadata": {},
   "outputs": [],
   "source": [
    "from sklearn.preprocessing import StandardScaler\n",
    "X = lending[ standardization_features + binary_features ]\n",
    "scaler = StandardScaler()\n",
    "scaler.fit(X)\n",
    "vectorized_X = scaler.transform(X)\n",
    "\n",
    "# Save the numpy vector to a file\n",
    "# with open('vectorized_X.npy', 'wb') as f:\n",
    "#     np.save(f, vectorized_X)"
   ]
  }
 ],
 "metadata": {
  "kernelspec": {
   "display_name": "Python 3.8 (Anaconda 2021.05)",
   "language": "python",
   "name": "anaconda-2021.05-py38"
  },
  "language_info": {
   "codemirror_mode": {
    "name": "ipython",
    "version": 3
   },
   "file_extension": ".py",
   "mimetype": "text/x-python",
   "name": "python",
   "nbconvert_exporter": "python",
   "pygments_lexer": "ipython3",
   "version": "3.8.8"
  }
 },
 "nbformat": 4,
 "nbformat_minor": 5
}
